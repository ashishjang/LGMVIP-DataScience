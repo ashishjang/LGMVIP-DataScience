{
  "nbformat": 4,
  "nbformat_minor": 0,
  "metadata": {
    "accelerator": "GPU",
    "colab": {
      "name": "text-prediction-project.ipynb",
      "provenance": [],
      "collapsed_sections": []
    },
    "kernelspec": {
      "display_name": "Python 3",
      "language": "python",
      "name": "python3"
    },
    "language_info": {
      "codemirror_mode": {
        "name": "ipython",
        "version": 3
      },
      "file_extension": ".py",
      "mimetype": "text/x-python",
      "name": "python",
      "nbconvert_exporter": "python",
      "pygments_lexer": "ipython3",
      "version": "3.7.10"
    }
  },
  "cells": [
    {
      "cell_type": "markdown",
      "metadata": {
        "id": "_DBf7CpedwY_"
      },
      "source": [
        "# **LetsGrowMore - Internship** "
      ]
    },
    {
      "cell_type": "markdown",
      "metadata": {
        "id": "SRdZYBKRfv72"
      },
      "source": [
        "### **Advance Level (Task-1)**"
      ]
    },
    {
      "cell_type": "markdown",
      "metadata": {
        "id": "036K9K-Igd4M"
      },
      "source": [
        "Author- Ashish \n",
        "\n",
        "---\n",
        "\n",
        "`Github link:`"
      ]
    },
    {
      "cell_type": "markdown",
      "metadata": {
        "id": "9JdhlmQqM8f5"
      },
      "source": [
        "# **Next Word Predictor using LSTM**"
      ]
    },
    {
      "cell_type": "code",
      "metadata": {
        "id": "DOlHFFvjDc36"
      },
      "source": [
        "import tensorflow as tf\n",
        "import string"
      ],
      "execution_count": 95,
      "outputs": []
    },
    {
      "cell_type": "code",
      "metadata": {
        "id": "bkKxiS41D0qz"
      },
      "source": [
        "# Opening the file \n",
        "file = open(\"1661-0.txt\")\n",
        "text = file.read()\n",
        "data = text.split('\\n')"
      ],
      "execution_count": 96,
      "outputs": []
    },
    {
      "cell_type": "code",
      "metadata": {
        "id": "vZuwMsc5EQOF"
      },
      "source": [
        "data = data[63:]"
      ],
      "execution_count": 97,
      "outputs": []
    },
    {
      "cell_type": "code",
      "metadata": {
        "colab": {
          "base_uri": "https://localhost:8080/",
          "height": 35
        },
        "id": "Aitk1SIZEk-b",
        "outputId": "bb80b0f5-ebfb-4321-9df3-3951506adf78"
      },
      "source": [
        "data[0]"
      ],
      "execution_count": 98,
      "outputs": [
        {
          "output_type": "execute_result",
          "data": {
            "application/vnd.google.colaboratory.intrinsic+json": {
              "type": "string"
            },
            "text/plain": [
              "'To Sherlock Holmes she is always _the_ woman. I have seldom heard him'"
            ]
          },
          "metadata": {},
          "execution_count": 98
        }
      ]
    },
    {
      "cell_type": "code",
      "metadata": {
        "id": "4aeAl2lsFosw"
      },
      "source": [
        "# Storing all the values in data String\n",
        "data = \" \".join(data)"
      ],
      "execution_count": 99,
      "outputs": []
    },
    {
      "cell_type": "markdown",
      "metadata": {
        "id": "NLaLBAt-ESkL"
      },
      "source": [
        "# **1. Data Preprocessing**"
      ]
    },
    {
      "cell_type": "code",
      "metadata": {
        "id": "-6SCpEdpGcC1"
      },
      "source": [
        "#cleaning the text by removing punctuation, converting text into lowercase and storing every word in a token\n",
        "def clean_text(doc):\n",
        "  tokens = doc.split()\n",
        "  table = str.maketrans(\"\", \"\", string.punctuation)\n",
        "  tokens = [w.translate(table) for w in tokens]\n",
        "  tokens = [word for word in tokens if word.isalpha()]\n",
        "  tokens = [word.lower() for word in tokens]\n",
        "  return tokens"
      ],
      "execution_count": 100,
      "outputs": []
    },
    {
      "cell_type": "code",
      "metadata": {
        "colab": {
          "base_uri": "https://localhost:8080/"
        },
        "id": "Ym8PhiWDHP58",
        "outputId": "44aa5269-f126-43e1-823a-cd25b01c1d8d"
      },
      "source": [
        "tokens = clean_text(data)\n",
        "print(tokens[:50])"
      ],
      "execution_count": 101,
      "outputs": [
        {
          "output_type": "stream",
          "name": "stdout",
          "text": [
            "['to', 'sherlock', 'holmes', 'she', 'is', 'always', 'the', 'woman', 'i', 'have', 'seldom', 'heard', 'him', 'mention', 'her', 'under', 'any', 'other', 'name', 'in', 'his', 'eyes', 'she', 'eclipses', 'and', 'predominates', 'the', 'whole', 'of', 'her', 'sex', 'it', 'was', 'not', 'that', 'he', 'felt', 'any', 'emotion', 'akin', 'to', 'love', 'for', 'irene', 'adler', 'all', 'emotions', 'and', 'that', 'one']\n"
          ]
        }
      ]
    },
    {
      "cell_type": "code",
      "metadata": {
        "colab": {
          "base_uri": "https://localhost:8080/",
          "height": 52
        },
        "id": "PpxVh8gvHn8a",
        "outputId": "e3ea2da1-20b0-4bf0-fba6-06e26ea35026"
      },
      "source": [
        "# Creating list of lines having 51 words\n",
        "length = 51\n",
        "lines = []\n",
        "\n",
        "for i in range(length, len(tokens)):\n",
        "  seq = tokens[i- length:i]\n",
        "  line = \" \".join(seq)\n",
        "  lines.append(line)\n",
        "  \n",
        "lines[0]"
      ],
      "execution_count": 102,
      "outputs": [
        {
          "output_type": "execute_result",
          "data": {
            "application/vnd.google.colaboratory.intrinsic+json": {
              "type": "string"
            },
            "text/plain": [
              "'to sherlock holmes she is always the woman i have seldom heard him mention her under any other name in his eyes she eclipses and predominates the whole of her sex it was not that he felt any emotion akin to love for irene adler all emotions and that one particularly'"
            ]
          },
          "metadata": {},
          "execution_count": 102
        }
      ]
    },
    {
      "cell_type": "markdown",
      "metadata": {
        "id": "F0zCgwGgFOF5"
      },
      "source": [
        "# **2. Feature Engineering**"
      ]
    },
    {
      "cell_type": "code",
      "metadata": {
        "id": "xgIct99iI4BZ"
      },
      "source": [
        "# Importing the necessary liabraries\n",
        "import numpy as np\n",
        "from keras.preprocessing.text import Tokenizer\n",
        "from keras.models import Sequential\n",
        "from tensorflow.keras.utils import to_categorical\n",
        "from keras.layers import Dense, LSTM, Embedding\n",
        "from keras.preprocessing.sequence import pad_sequences"
      ],
      "execution_count": 103,
      "outputs": []
    },
    {
      "cell_type": "code",
      "metadata": {
        "id": "7JSyqZLWJtmv"
      },
      "source": [
        "#Converting words into tokens with a specific number\n",
        "tokenizer = Tokenizer()\n",
        "tokenizer.fit_on_texts(lines)\n",
        "# Giving every word in line alloted numbers according to the sequence of words.\n",
        "sequences = tokenizer.texts_to_sequences(lines)"
      ],
      "execution_count": 104,
      "outputs": []
    },
    {
      "cell_type": "code",
      "metadata": {
        "id": "JLIuevZJLqUd"
      },
      "source": [
        "# Converting sequence to numpy so that tensoflow could understand\n",
        "sequences = np.array(sequences)\n",
        "# X would be every label except last\n",
        "# Y would be the last word\n",
        "X,y = sequences[:, :-1] , sequences[:,-1]"
      ],
      "execution_count": 105,
      "outputs": []
    },
    {
      "cell_type": "code",
      "metadata": {
        "id": "pnStg-rp7oPq"
      },
      "source": [
        "#Setting vocab size to number of tokens\n",
        "vocab_size = len(tokenizer.word_index) + 1"
      ],
      "execution_count": 106,
      "outputs": []
    },
    {
      "cell_type": "code",
      "metadata": {
        "id": "JW4Hz-mQMUA4"
      },
      "source": [
        "#Converting the last label into categorical variable for training\n",
        "y = to_categorical(y, num_classes = vocab_size)"
      ],
      "execution_count": 107,
      "outputs": []
    },
    {
      "cell_type": "code",
      "metadata": {
        "id": "H5XgJsrINgRQ"
      },
      "source": [
        "seq_length = 50"
      ],
      "execution_count": 108,
      "outputs": []
    },
    {
      "cell_type": "markdown",
      "metadata": {
        "id": "44mdN7_4I0Ut"
      },
      "source": [
        "# **3. Building the Model**"
      ]
    },
    {
      "cell_type": "code",
      "metadata": {
        "id": "gVdbEdnDQZbi"
      },
      "source": [
        "model = Sequential()\n",
        "model.add(Embedding(vocab_size, 50, input_length = seq_length))\n",
        "model.add(tf.keras.layers.Bidirectional(LSTM(100, return_sequences = True)))\n",
        "model.add(LSTM(100))\n",
        "model.add(Dense(100, activation = 'relu'))\n",
        "model.add(Dense(vocab_size, activation = 'softmax'))"
      ],
      "execution_count": 109,
      "outputs": []
    },
    {
      "cell_type": "code",
      "metadata": {
        "colab": {
          "base_uri": "https://localhost:8080/"
        },
        "id": "QNMjVA-z7oPr",
        "outputId": "480ef0b7-285c-45ab-ac31-9ea3e924bac1"
      },
      "source": [
        "model.summary()"
      ],
      "execution_count": 110,
      "outputs": [
        {
          "output_type": "stream",
          "name": "stdout",
          "text": [
            "Model: \"sequential_5\"\n",
            "_________________________________________________________________\n",
            "Layer (type)                 Output Shape              Param #   \n",
            "=================================================================\n",
            "embedding_4 (Embedding)      (None, 50, 50)            405650    \n",
            "_________________________________________________________________\n",
            "bidirectional_2 (Bidirection (None, 50, 200)           120800    \n",
            "_________________________________________________________________\n",
            "lstm_7 (LSTM)                (None, 100)               120400    \n",
            "_________________________________________________________________\n",
            "dense_6 (Dense)              (None, 100)               10100     \n",
            "_________________________________________________________________\n",
            "dense_7 (Dense)              (None, 8113)              819413    \n",
            "=================================================================\n",
            "Total params: 1,476,363\n",
            "Trainable params: 1,476,363\n",
            "Non-trainable params: 0\n",
            "_________________________________________________________________\n"
          ]
        }
      ]
    },
    {
      "cell_type": "code",
      "metadata": {
        "id": "iOl2C58m7oPr"
      },
      "source": [
        "model.compile(loss = 'categorical_crossentropy', optimizer = 'adam', metrics = ['accuracy'])"
      ],
      "execution_count": 111,
      "outputs": []
    },
    {
      "cell_type": "code",
      "metadata": {
        "colab": {
          "base_uri": "https://localhost:8080/"
        },
        "id": "eM_rB9pAREMH",
        "outputId": "e24ef1da-5dfa-4268-8090-abdc165e5834"
      },
      "source": [
        "model.fit(X,y,batch_size = 256, epochs = 100)"
      ],
      "execution_count": 112,
      "outputs": [
        {
          "output_type": "stream",
          "name": "stdout",
          "text": [
            "Epoch 1/100\n",
            "395/395 [==============================] - 30s 63ms/step - loss: 6.5565 - accuracy: 0.0578\n",
            "Epoch 2/100\n",
            "395/395 [==============================] - 25s 63ms/step - loss: 6.0705 - accuracy: 0.0719\n",
            "Epoch 3/100\n",
            "395/395 [==============================] - 25s 63ms/step - loss: 5.8411 - accuracy: 0.0868\n",
            "Epoch 4/100\n",
            "395/395 [==============================] - 25s 63ms/step - loss: 5.6647 - accuracy: 0.0987\n",
            "Epoch 5/100\n",
            "395/395 [==============================] - 25s 63ms/step - loss: 5.4970 - accuracy: 0.1094\n",
            "Epoch 6/100\n",
            "395/395 [==============================] - 25s 63ms/step - loss: 5.3740 - accuracy: 0.1185\n",
            "Epoch 7/100\n",
            "395/395 [==============================] - 25s 63ms/step - loss: 5.2671 - accuracy: 0.1266\n",
            "Epoch 8/100\n",
            "395/395 [==============================] - 25s 63ms/step - loss: 5.1721 - accuracy: 0.1337\n",
            "Epoch 9/100\n",
            "395/395 [==============================] - 25s 63ms/step - loss: 5.0875 - accuracy: 0.1380\n",
            "Epoch 10/100\n",
            "395/395 [==============================] - 25s 63ms/step - loss: 5.0046 - accuracy: 0.1441\n",
            "Epoch 11/100\n",
            "395/395 [==============================] - 25s 63ms/step - loss: 4.9247 - accuracy: 0.1479\n",
            "Epoch 12/100\n",
            "395/395 [==============================] - 25s 63ms/step - loss: 4.8494 - accuracy: 0.1520\n",
            "Epoch 13/100\n",
            "395/395 [==============================] - 25s 63ms/step - loss: 4.7744 - accuracy: 0.1563\n",
            "Epoch 14/100\n",
            "395/395 [==============================] - 25s 63ms/step - loss: 4.7001 - accuracy: 0.1599\n",
            "Epoch 15/100\n",
            "395/395 [==============================] - 25s 63ms/step - loss: 4.6282 - accuracy: 0.1638\n",
            "Epoch 16/100\n",
            "395/395 [==============================] - 25s 63ms/step - loss: 4.5544 - accuracy: 0.1665\n",
            "Epoch 17/100\n",
            "395/395 [==============================] - 25s 63ms/step - loss: 4.4811 - accuracy: 0.1707\n",
            "Epoch 18/100\n",
            "395/395 [==============================] - 25s 63ms/step - loss: 4.4094 - accuracy: 0.1747\n",
            "Epoch 19/100\n",
            "395/395 [==============================] - 25s 63ms/step - loss: 4.3373 - accuracy: 0.1799\n",
            "Epoch 20/100\n",
            "395/395 [==============================] - 25s 63ms/step - loss: 4.2680 - accuracy: 0.1842\n",
            "Epoch 21/100\n",
            "395/395 [==============================] - 25s 63ms/step - loss: 4.1986 - accuracy: 0.1906\n",
            "Epoch 22/100\n",
            "395/395 [==============================] - 25s 63ms/step - loss: 4.1299 - accuracy: 0.1942\n",
            "Epoch 23/100\n",
            "395/395 [==============================] - 25s 63ms/step - loss: 4.0648 - accuracy: 0.2010\n",
            "Epoch 24/100\n",
            "395/395 [==============================] - 25s 63ms/step - loss: 4.0004 - accuracy: 0.2067\n",
            "Epoch 25/100\n",
            "395/395 [==============================] - 25s 63ms/step - loss: 3.9382 - accuracy: 0.2126\n",
            "Epoch 26/100\n",
            "395/395 [==============================] - 25s 63ms/step - loss: 3.8788 - accuracy: 0.2190\n",
            "Epoch 27/100\n",
            "395/395 [==============================] - 25s 63ms/step - loss: 3.8212 - accuracy: 0.2245\n",
            "Epoch 28/100\n",
            "395/395 [==============================] - 25s 63ms/step - loss: 3.7671 - accuracy: 0.2303\n",
            "Epoch 29/100\n",
            "395/395 [==============================] - 25s 63ms/step - loss: 3.7138 - accuracy: 0.2374\n",
            "Epoch 30/100\n",
            "395/395 [==============================] - 25s 63ms/step - loss: 3.6644 - accuracy: 0.2438\n",
            "Epoch 31/100\n",
            "395/395 [==============================] - 25s 63ms/step - loss: 3.6157 - accuracy: 0.2486\n",
            "Epoch 32/100\n",
            "395/395 [==============================] - 25s 63ms/step - loss: 3.5666 - accuracy: 0.2556\n",
            "Epoch 33/100\n",
            "395/395 [==============================] - 25s 63ms/step - loss: 3.5187 - accuracy: 0.2625\n",
            "Epoch 34/100\n",
            "395/395 [==============================] - 25s 63ms/step - loss: 3.4748 - accuracy: 0.2683\n",
            "Epoch 35/100\n",
            "395/395 [==============================] - 25s 63ms/step - loss: 3.4318 - accuracy: 0.2723\n",
            "Epoch 36/100\n",
            "395/395 [==============================] - 25s 63ms/step - loss: 3.3883 - accuracy: 0.2790\n",
            "Epoch 37/100\n",
            "395/395 [==============================] - 25s 63ms/step - loss: 3.3475 - accuracy: 0.2856\n",
            "Epoch 38/100\n",
            "395/395 [==============================] - 25s 63ms/step - loss: 3.3051 - accuracy: 0.2910\n",
            "Epoch 39/100\n",
            "395/395 [==============================] - 25s 63ms/step - loss: 3.2684 - accuracy: 0.2971\n",
            "Epoch 40/100\n",
            "395/395 [==============================] - 25s 63ms/step - loss: 3.2282 - accuracy: 0.3030\n",
            "Epoch 41/100\n",
            "395/395 [==============================] - 25s 63ms/step - loss: 3.1922 - accuracy: 0.3082\n",
            "Epoch 42/100\n",
            "395/395 [==============================] - 25s 63ms/step - loss: 3.1566 - accuracy: 0.3135\n",
            "Epoch 43/100\n",
            "395/395 [==============================] - 25s 63ms/step - loss: 3.1173 - accuracy: 0.3194\n",
            "Epoch 44/100\n",
            "395/395 [==============================] - 25s 63ms/step - loss: 3.0806 - accuracy: 0.3254\n",
            "Epoch 45/100\n",
            "395/395 [==============================] - 25s 64ms/step - loss: 3.0466 - accuracy: 0.3317\n",
            "Epoch 46/100\n",
            "395/395 [==============================] - 25s 63ms/step - loss: 3.0123 - accuracy: 0.3371\n",
            "Epoch 47/100\n",
            "395/395 [==============================] - 25s 63ms/step - loss: 2.9747 - accuracy: 0.3450\n",
            "Epoch 48/100\n",
            "395/395 [==============================] - 25s 63ms/step - loss: 2.9434 - accuracy: 0.3487\n",
            "Epoch 49/100\n",
            "395/395 [==============================] - 25s 63ms/step - loss: 2.9123 - accuracy: 0.3535\n",
            "Epoch 50/100\n",
            "395/395 [==============================] - 25s 63ms/step - loss: 2.8782 - accuracy: 0.3606\n",
            "Epoch 51/100\n",
            "395/395 [==============================] - 25s 63ms/step - loss: 2.8471 - accuracy: 0.3654\n",
            "Epoch 52/100\n",
            "395/395 [==============================] - 25s 63ms/step - loss: 2.8159 - accuracy: 0.3711\n",
            "Epoch 53/100\n",
            "395/395 [==============================] - 25s 63ms/step - loss: 2.7849 - accuracy: 0.3757\n",
            "Epoch 54/100\n",
            "395/395 [==============================] - 25s 63ms/step - loss: 2.7549 - accuracy: 0.3820\n",
            "Epoch 55/100\n",
            "395/395 [==============================] - 25s 63ms/step - loss: 2.7234 - accuracy: 0.3881\n",
            "Epoch 56/100\n",
            "395/395 [==============================] - 25s 63ms/step - loss: 2.6918 - accuracy: 0.3929\n",
            "Epoch 57/100\n",
            "395/395 [==============================] - 25s 63ms/step - loss: 2.6656 - accuracy: 0.3971\n",
            "Epoch 58/100\n",
            "395/395 [==============================] - 25s 63ms/step - loss: 2.6336 - accuracy: 0.4038\n",
            "Epoch 59/100\n",
            "395/395 [==============================] - 25s 63ms/step - loss: 2.6028 - accuracy: 0.4096\n",
            "Epoch 60/100\n",
            "395/395 [==============================] - 25s 63ms/step - loss: 2.5756 - accuracy: 0.4137\n",
            "Epoch 61/100\n",
            "395/395 [==============================] - 25s 63ms/step - loss: 2.5529 - accuracy: 0.4185\n",
            "Epoch 62/100\n",
            "395/395 [==============================] - 25s 63ms/step - loss: 2.5254 - accuracy: 0.4251\n",
            "Epoch 63/100\n",
            "395/395 [==============================] - 25s 63ms/step - loss: 2.4932 - accuracy: 0.4306\n",
            "Epoch 64/100\n",
            "395/395 [==============================] - 25s 63ms/step - loss: 2.4678 - accuracy: 0.4357\n",
            "Epoch 65/100\n",
            "395/395 [==============================] - 25s 63ms/step - loss: 2.4381 - accuracy: 0.4424\n",
            "Epoch 66/100\n",
            "395/395 [==============================] - 25s 63ms/step - loss: 2.4105 - accuracy: 0.4453\n",
            "Epoch 67/100\n",
            "395/395 [==============================] - 25s 63ms/step - loss: 2.3865 - accuracy: 0.4509\n",
            "Epoch 68/100\n",
            "395/395 [==============================] - 25s 63ms/step - loss: 2.3636 - accuracy: 0.4546\n",
            "Epoch 69/100\n",
            "395/395 [==============================] - 25s 63ms/step - loss: 2.3359 - accuracy: 0.4597\n",
            "Epoch 70/100\n",
            "395/395 [==============================] - 25s 63ms/step - loss: 2.3148 - accuracy: 0.4639\n",
            "Epoch 71/100\n",
            "395/395 [==============================] - 25s 63ms/step - loss: 2.2905 - accuracy: 0.4688\n",
            "Epoch 72/100\n",
            "395/395 [==============================] - 25s 63ms/step - loss: 2.2594 - accuracy: 0.4743\n",
            "Epoch 73/100\n",
            "395/395 [==============================] - 25s 63ms/step - loss: 2.2352 - accuracy: 0.4802\n",
            "Epoch 74/100\n",
            "395/395 [==============================] - 25s 63ms/step - loss: 2.2148 - accuracy: 0.4849\n",
            "Epoch 75/100\n",
            "395/395 [==============================] - 25s 63ms/step - loss: 2.1929 - accuracy: 0.4878\n",
            "Epoch 76/100\n",
            "395/395 [==============================] - 25s 63ms/step - loss: 2.1668 - accuracy: 0.4931\n",
            "Epoch 77/100\n",
            "395/395 [==============================] - 25s 63ms/step - loss: 2.1465 - accuracy: 0.4977\n",
            "Epoch 78/100\n",
            "395/395 [==============================] - 25s 63ms/step - loss: 2.1238 - accuracy: 0.5017\n",
            "Epoch 79/100\n",
            "395/395 [==============================] - 25s 63ms/step - loss: 2.1036 - accuracy: 0.5063\n",
            "Epoch 80/100\n",
            "395/395 [==============================] - 25s 63ms/step - loss: 2.0821 - accuracy: 0.5100\n",
            "Epoch 81/100\n",
            "395/395 [==============================] - 25s 63ms/step - loss: 2.0574 - accuracy: 0.5160\n",
            "Epoch 82/100\n",
            "395/395 [==============================] - 25s 63ms/step - loss: 2.0316 - accuracy: 0.5225\n",
            "Epoch 83/100\n",
            "395/395 [==============================] - 25s 63ms/step - loss: 2.0085 - accuracy: 0.5263\n",
            "Epoch 84/100\n",
            "395/395 [==============================] - 25s 63ms/step - loss: 1.9890 - accuracy: 0.5293\n",
            "Epoch 85/100\n",
            "395/395 [==============================] - 25s 63ms/step - loss: 1.9729 - accuracy: 0.5333\n",
            "Epoch 86/100\n",
            "395/395 [==============================] - 25s 63ms/step - loss: 1.9517 - accuracy: 0.5373\n",
            "Epoch 87/100\n",
            "395/395 [==============================] - 25s 63ms/step - loss: 1.9328 - accuracy: 0.5408\n",
            "Epoch 88/100\n",
            "395/395 [==============================] - 25s 63ms/step - loss: 1.9095 - accuracy: 0.5463\n",
            "Epoch 89/100\n",
            "395/395 [==============================] - 25s 63ms/step - loss: 1.8948 - accuracy: 0.5488\n",
            "Epoch 90/100\n",
            "395/395 [==============================] - 25s 63ms/step - loss: 1.8722 - accuracy: 0.5534\n",
            "Epoch 91/100\n",
            "395/395 [==============================] - 25s 63ms/step - loss: 1.8626 - accuracy: 0.5552\n",
            "Epoch 92/100\n",
            "395/395 [==============================] - 25s 63ms/step - loss: 1.8305 - accuracy: 0.5620\n",
            "Epoch 93/100\n",
            "395/395 [==============================] - 25s 63ms/step - loss: 1.8087 - accuracy: 0.5665\n",
            "Epoch 94/100\n",
            "395/395 [==============================] - 25s 63ms/step - loss: 1.7954 - accuracy: 0.5694\n",
            "Epoch 95/100\n",
            "395/395 [==============================] - 25s 63ms/step - loss: 1.7677 - accuracy: 0.5779\n",
            "Epoch 96/100\n",
            "395/395 [==============================] - 25s 63ms/step - loss: 1.7569 - accuracy: 0.5779\n",
            "Epoch 97/100\n",
            "395/395 [==============================] - 25s 63ms/step - loss: 1.7490 - accuracy: 0.5813\n",
            "Epoch 98/100\n",
            "395/395 [==============================] - 25s 63ms/step - loss: 1.7238 - accuracy: 0.5858\n",
            "Epoch 99/100\n",
            "395/395 [==============================] - 25s 63ms/step - loss: 1.7105 - accuracy: 0.5888\n",
            "Epoch 100/100\n",
            "395/395 [==============================] - 25s 63ms/step - loss: 1.6844 - accuracy: 0.5940\n"
          ]
        },
        {
          "output_type": "execute_result",
          "data": {
            "text/plain": [
              "<keras.callbacks.History at 0x7fc4fdbaaed0>"
            ]
          },
          "metadata": {},
          "execution_count": 112
        }
      ]
    },
    {
      "cell_type": "code",
      "metadata": {
        "colab": {
          "base_uri": "https://localhost:8080/",
          "height": 279
        },
        "id": "Tf7UWOEtWDQt",
        "outputId": "7e43e624-8712-4a22-e99f-c5b9ed323b6f"
      },
      "source": [
        "import matplotlib.pyplot as plt\n",
        "# ploting the result chart\n",
        "def plot_results(name,ylabel):\n",
        "  plt.plot(name)\n",
        "  plt.xlabel(\"Epochs\")\n",
        "  plt.ylabel(ylabel)\n",
        "  \n",
        "plot_results(model.history.history['loss'], \"loss\")\n"
      ],
      "execution_count": 119,
      "outputs": [
        {
          "output_type": "display_data",
          "data": {
            "image/png": "[encoded data removed]",
            "text/plain": [
              "<Figure size 432x288 with 1 Axes>"
            ]
          },
          "metadata": {
            "needs_background": "light"
          }
        }
      ]
    },
    {
      "cell_type": "code",
      "metadata": {
        "colab": {
          "base_uri": "https://localhost:8080/",
          "height": 279
        },
        "id": "v0lK48q8zhP3",
        "outputId": "c3c0c3e2-2624-464f-9eab-fec0095f23b4"
      },
      "source": [
        "#ploting accuracy with epochs\n",
        "plot_results(model.history.history['accuracy'], \"accuracy\")"
      ],
      "execution_count": 120,
      "outputs": [
        {
          "output_type": "display_data",
          "data": {
            "image/png": "[encoded data removed]",
            "text/plain": [
              "<Figure size 432x288 with 1 Axes>"
            ]
          },
          "metadata": {
            "needs_background": "light"
          }
        }
      ]
    },
    {
      "cell_type": "markdown",
      "metadata": {
        "id": "yyuwJfzWaIZ_"
      },
      "source": [
        "# **4. Generating words from the Model**"
      ]
    },
    {
      "cell_type": "code",
      "metadata": {
        "id": "2s2zn7dgSsKc"
      },
      "source": [
        "# generating text from the model\n",
        "def generate_trained_text(seed_text, n_words):\n",
        "  for _ in range(n_words):\n",
        "    token_list = tokenizer.texts_to_sequences([seed_text])[0]\n",
        "    token_list = pad_sequences([token_list], maxlen = 100, padding ='pre')\n",
        "    predicted = model.predict(token_list, verbose =0)\n",
        "    #argmax will return the token with maximum probability\n",
        "    classes=np.argmax(predicted,axis=1)\n",
        "    output_word = \"\"\n",
        "    for word, index in tokenizer.word_index.items():\n",
        "      if index == classes:\n",
        "        output_word= word\n",
        "        break    \n",
        "    seed_text += \" \" + output_word\n",
        "  print(seed_text)"
      ],
      "execution_count": 121,
      "outputs": []
    },
    {
      "cell_type": "code",
      "metadata": {
        "id": "9bOjgBM4z-aB",
        "colab": {
          "base_uri": "https://localhost:8080/"
        },
        "outputId": "aac28b3c-90b1-4a1f-e292-c36847695896"
      },
      "source": [
        "generate_trained_text(\"Life is hard\", 20)"
      ],
      "execution_count": 122,
      "outputs": [
        {
          "output_type": "stream",
          "name": "stdout",
          "text": [
            "WARNING:tensorflow:Model was constructed with shape (None, 50) for input KerasTensor(type_spec=TensorSpec(shape=(None, 50), dtype=tf.float32, name='embedding_4_input'), name='embedding_4_input', description=\"created by layer 'embedding_4_input'\"), but it was called on an input with incompatible shape (None, 100).\n",
            "Life is hard quite quite a few moments later he was quite separate and would lead her initials seems to be almost inexplicable\n"
          ]
        }
      ]
    },
    {
      "cell_type": "code",
      "metadata": {
        "id": "Yw75OBx0kPzd"
      },
      "source": [
        ""
      ],
      "execution_count": null,
      "outputs": []
    }
  ]
}